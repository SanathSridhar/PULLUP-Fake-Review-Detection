{
 "cells": [
  {
   "cell_type": "code",
   "execution_count": 1,
   "id": "ef7b8689-c7fc-498c-8d31-c9dd19cabfe5",
   "metadata": {},
   "outputs": [
    {
     "name": "stdout",
     "output_type": "stream",
     "text": [
      "Collecting transformers\n",
      "  Obtaining dependency information for transformers from https://files.pythonhosted.org/packages/12/dd/f17b11a93a9ca27728e12512d167eb1281c151c4c6881d3ab59eb58f4127/transformers-4.35.2-py3-none-any.whl.metadata\n",
      "  Using cached transformers-4.35.2-py3-none-any.whl.metadata (123 kB)\n",
      "Requirement already satisfied: filelock in /opt/conda/lib/python3.10/site-packages (from transformers) (3.12.4)\n",
      "Collecting huggingface-hub<1.0,>=0.16.4 (from transformers)\n",
      "  Obtaining dependency information for huggingface-hub<1.0,>=0.16.4 from https://files.pythonhosted.org/packages/05/09/1945ca6ba3ad8ad6e2872ba682ce8d68c5e63c8e55458ed8ab4885709f1d/huggingface_hub-0.19.4-py3-none-any.whl.metadata\n",
      "  Using cached huggingface_hub-0.19.4-py3-none-any.whl.metadata (14 kB)\n",
      "Requirement already satisfied: numpy>=1.17 in /opt/conda/lib/python3.10/site-packages (from transformers) (1.23.5)\n",
      "Requirement already satisfied: packaging>=20.0 in /opt/conda/lib/python3.10/site-packages (from transformers) (23.1)\n",
      "Requirement already satisfied: pyyaml>=5.1 in /opt/conda/lib/python3.10/site-packages (from transformers) (6.0.1)\n",
      "Collecting regex!=2019.12.17 (from transformers)\n",
      "  Obtaining dependency information for regex!=2019.12.17 from https://files.pythonhosted.org/packages/8f/3e/4b8b40eb3c80aeaf360f0361d956d129bb3d23b2a3ecbe3a04a8f3bdd6d3/regex-2023.10.3-cp310-cp310-manylinux_2_17_x86_64.manylinux2014_x86_64.whl.metadata\n",
      "  Using cached regex-2023.10.3-cp310-cp310-manylinux_2_17_x86_64.manylinux2014_x86_64.whl.metadata (40 kB)\n",
      "Requirement already satisfied: requests in /opt/conda/lib/python3.10/site-packages (from transformers) (2.31.0)\n",
      "Collecting tokenizers<0.19,>=0.14 (from transformers)\n",
      "  Obtaining dependency information for tokenizers<0.19,>=0.14 from https://files.pythonhosted.org/packages/eb/3d/eee5f3c572a3f4db2ebabf5bd4f284f356078a5b5d27e6229b4450d5c5e4/tokenizers-0.15.0-cp310-cp310-manylinux_2_17_x86_64.manylinux2014_x86_64.whl.metadata\n",
      "  Using cached tokenizers-0.15.0-cp310-cp310-manylinux_2_17_x86_64.manylinux2014_x86_64.whl.metadata (6.7 kB)\n",
      "Collecting safetensors>=0.3.1 (from transformers)\n",
      "  Obtaining dependency information for safetensors>=0.3.1 from https://files.pythonhosted.org/packages/35/8f/892d2e1bcfceb7ee3f9b055ac4bb111e31d25f0a38c7f44d1d59bf7a501a/safetensors-0.4.1-cp310-cp310-manylinux_2_17_x86_64.manylinux2014_x86_64.whl.metadata\n",
      "  Using cached safetensors-0.4.1-cp310-cp310-manylinux_2_17_x86_64.manylinux2014_x86_64.whl.metadata (3.8 kB)\n",
      "Requirement already satisfied: tqdm>=4.27 in /opt/conda/lib/python3.10/site-packages (from transformers) (4.66.1)\n",
      "Requirement already satisfied: fsspec>=2023.5.0 in /opt/conda/lib/python3.10/site-packages (from huggingface-hub<1.0,>=0.16.4->transformers) (2023.9.2)\n",
      "Requirement already satisfied: typing-extensions>=3.7.4.3 in /opt/conda/lib/python3.10/site-packages (from huggingface-hub<1.0,>=0.16.4->transformers) (4.8.0)\n",
      "Requirement already satisfied: charset-normalizer<4,>=2 in /opt/conda/lib/python3.10/site-packages (from requests->transformers) (3.2.0)\n",
      "Requirement already satisfied: idna<4,>=2.5 in /opt/conda/lib/python3.10/site-packages (from requests->transformers) (3.4)\n",
      "Requirement already satisfied: urllib3<3,>=1.21.1 in /opt/conda/lib/python3.10/site-packages (from requests->transformers) (1.26.16)\n",
      "Requirement already satisfied: certifi>=2017.4.17 in /opt/conda/lib/python3.10/site-packages (from requests->transformers) (2023.7.22)\n",
      "Using cached transformers-4.35.2-py3-none-any.whl (7.9 MB)\n",
      "Using cached huggingface_hub-0.19.4-py3-none-any.whl (311 kB)\n",
      "Using cached regex-2023.10.3-cp310-cp310-manylinux_2_17_x86_64.manylinux2014_x86_64.whl (773 kB)\n",
      "Using cached safetensors-0.4.1-cp310-cp310-manylinux_2_17_x86_64.manylinux2014_x86_64.whl (1.3 MB)\n",
      "Using cached tokenizers-0.15.0-cp310-cp310-manylinux_2_17_x86_64.manylinux2014_x86_64.whl (3.8 MB)\n",
      "Installing collected packages: safetensors, regex, huggingface-hub, tokenizers, transformers\n",
      "Successfully installed huggingface-hub-0.19.4 regex-2023.10.3 safetensors-0.4.1 tokenizers-0.15.0 transformers-4.35.2\n"
     ]
    }
   ],
   "source": [
    "!pip3 install transformers"
   ]
  },
  {
   "cell_type": "code",
   "execution_count": 2,
   "id": "9e2e37d8-1547-4bd3-ba4a-b2c4bfb70ef8",
   "metadata": {},
   "outputs": [],
   "source": [
    "from ReviewDataPreparation import ReviewDataPreparation\n",
    "from PULLUP_BERT import PULLUPModel, PULLUPLoss, PULLUPTrainer, PULLUPEvaluator\n",
    "import torch\n",
    "from torch.utils.data import TensorDataset\n",
    "from transformers import BertTokenizer\n",
    "import random\n",
    "import numpy as np\n",
    "import pandas as pd\n",
    "\n",
    "df = pd.read_csv('review_dataset.csv')\n",
    "df = df.sample(n=3000, random_state = 42)\n",
    "senti_df = pd.read_csv('sentiment_reviews.csv')\n",
    "data_prep = ReviewDataPreparation(df, senti_df)\n",
    "\n",
    "positive_data, mixed_spies_data = data_prep.get_data()\n",
    "positive_texts, unlabelled_texts, spies_texts = data_prep.get_texts()"
   ]
  },
  {
   "cell_type": "code",
   "execution_count": 3,
   "id": "ddf1a90f-8045-4a77-a78b-465cadeb14e8",
   "metadata": {},
   "outputs": [],
   "source": [
    "bert_model = 'bert-base-uncased'\n",
    "numeric_input_size = 9\n",
    "num_labels = 2\n",
    "\n",
    "model = PULLUPModel(bert_model, numeric_input_size, num_labels)"
   ]
  },
  {
   "cell_type": "code",
   "execution_count": 4,
   "id": "d793c24e-0b30-422c-a49c-9bb2871ad0e6",
   "metadata": {},
   "outputs": [],
   "source": [
    "from torch.utils.data import DataLoader\n",
    "\n",
    "train_dataset = positive_data + mixed_spies_data\n",
    "train_loader = DataLoader(train_dataset, batch_size=1, shuffle=True)"
   ]
  },
  {
   "cell_type": "code",
   "execution_count": 5,
   "id": "51599181-3c6a-4792-8529-5c01bca087ca",
   "metadata": {},
   "outputs": [
    {
     "name": "stderr",
     "output_type": "stream",
     "text": [
      "/opt/conda/lib/python3.10/site-packages/transformers/optimization.py:411: FutureWarning: This implementation of AdamW is deprecated and will be removed in a future version. Use the PyTorch implementation torch.optim.AdamW instead, or set `no_deprecation_warning=True` to disable this warning\n",
      "  warnings.warn(\n"
     ]
    },
    {
     "data": {
      "text/plain": [
       "PULLUPModel(\n",
       "  (bert): BertModel(\n",
       "    (embeddings): BertEmbeddings(\n",
       "      (word_embeddings): Embedding(30522, 768, padding_idx=0)\n",
       "      (position_embeddings): Embedding(512, 768)\n",
       "      (token_type_embeddings): Embedding(2, 768)\n",
       "      (LayerNorm): LayerNorm((768,), eps=1e-12, elementwise_affine=True)\n",
       "      (dropout): Dropout(p=0.1, inplace=False)\n",
       "    )\n",
       "    (encoder): BertEncoder(\n",
       "      (layer): ModuleList(\n",
       "        (0-11): 12 x BertLayer(\n",
       "          (attention): BertAttention(\n",
       "            (self): BertSelfAttention(\n",
       "              (query): Linear(in_features=768, out_features=768, bias=True)\n",
       "              (key): Linear(in_features=768, out_features=768, bias=True)\n",
       "              (value): Linear(in_features=768, out_features=768, bias=True)\n",
       "              (dropout): Dropout(p=0.1, inplace=False)\n",
       "            )\n",
       "            (output): BertSelfOutput(\n",
       "              (dense): Linear(in_features=768, out_features=768, bias=True)\n",
       "              (LayerNorm): LayerNorm((768,), eps=1e-12, elementwise_affine=True)\n",
       "              (dropout): Dropout(p=0.1, inplace=False)\n",
       "            )\n",
       "          )\n",
       "          (intermediate): BertIntermediate(\n",
       "            (dense): Linear(in_features=768, out_features=3072, bias=True)\n",
       "            (intermediate_act_fn): GELUActivation()\n",
       "          )\n",
       "          (output): BertOutput(\n",
       "            (dense): Linear(in_features=3072, out_features=768, bias=True)\n",
       "            (LayerNorm): LayerNorm((768,), eps=1e-12, elementwise_affine=True)\n",
       "            (dropout): Dropout(p=0.1, inplace=False)\n",
       "          )\n",
       "        )\n",
       "      )\n",
       "    )\n",
       "    (pooler): BertPooler(\n",
       "      (dense): Linear(in_features=768, out_features=768, bias=True)\n",
       "      (activation): Tanh()\n",
       "    )\n",
       "  )\n",
       "  (dropout): Dropout(p=0.1, inplace=False)\n",
       "  (numeric_layers): Sequential(\n",
       "    (0): Linear(in_features=9, out_features=64, bias=True)\n",
       "    (1): ReLU()\n",
       "    (2): Linear(in_features=64, out_features=32, bias=True)\n",
       "    (3): ReLU()\n",
       "  )\n",
       "  (combined_layer): Linear(in_features=800, out_features=2, bias=True)\n",
       ")"
      ]
     },
     "execution_count": 5,
     "metadata": {},
     "output_type": "execute_result"
    }
   ],
   "source": [
    "import torch.nn as nn\n",
    "from transformers import AdamW\n",
    "\n",
    "num_epochs = 2\n",
    "alpha = 0.01\n",
    "criterion = nn.BCELoss()\n",
    "optimizer = AdamW(model.parameters(), lr=1e-5)\n",
    "device = torch.device('cuda' if torch.cuda.is_available() else 'cpu')\n",
    "model.to(device)"
   ]
  },
  {
   "cell_type": "code",
   "execution_count": 6,
   "id": "2432fb65-a103-42d3-a785-bf40756ef946",
   "metadata": {},
   "outputs": [],
   "source": [
    "pullup_loss = PULLUPLoss(alpha)\n",
    "pullup_trainer = PULLUPTrainer(model, optimizer, pullup_loss, num_mc_samples_train=10)"
   ]
  },
  {
   "cell_type": "code",
   "execution_count": 7,
   "id": "4cc3e91c-fb41-4d0a-a21e-64c91e5afcaa",
   "metadata": {},
   "outputs": [
    {
     "name": "stdout",
     "output_type": "stream",
     "text": [
      "Epoch 1/2\n",
      "Epoch 2/2\n"
     ]
    }
   ],
   "source": [
    "for epoch in range(num_epochs):\n",
    "    print(f\"Epoch {epoch + 1}/{num_epochs}\")\n",
    "    pullup_trainer.train_epoch(train_loader, device)"
   ]
  },
  {
   "cell_type": "code",
   "execution_count": 9,
   "id": "f86cd441-3706-49b1-a467-2ea2bb070f1f",
   "metadata": {},
   "outputs": [],
   "source": [
    "pullup_evaluator = PULLUPEvaluator(model, num_mc_samples_eval=10)\n",
    "mean_likelihoods_eval, mean_entropies_eval = pullup_evaluator.evaluate(DataLoader(mixed_spies_data, batch_size=16), device)"
   ]
  },
  {
   "cell_type": "code",
   "execution_count": 10,
   "id": "540b4883-4f0f-45b4-85cc-f8f962601a32",
   "metadata": {},
   "outputs": [
    {
     "name": "stdout",
     "output_type": "stream",
     "text": [
      "Num Genuine: 2617\n",
      "Num Fake: 77\n"
     ]
    }
   ],
   "source": [
    "positive_spies_indices = [index for index, text in enumerate(unlabelled_texts + spies_texts) if text in spies_texts]\n",
    "positive_spies_likelihoods = [likelihood for index, likelihood in enumerate(mean_likelihoods_eval) if index in positive_spies_indices]\n",
    "positive_spies_entropies = [float(entropy) for index, entropy in enumerate(mean_entropies_eval) if index in positive_spies_indices]  # Convert to list\n",
    "\n",
    "threshold_likelihood = np.percentile(positive_spies_likelihoods, 95) \n",
    "threshold_entropy = np.percentile(positive_spies_entropies, 5)\n",
    "pseudo_labels = [1 if (np.any(likelihood < threshold_likelihood) and np.any(entropy > threshold_entropy)) else 0 for likelihood, entropy in zip(mean_likelihoods_eval, mean_entropies_eval)]\n",
    "\n",
    "\n",
    "print(\"Num Genuine: \" + str(np.sum(np.array(pseudo_labels) == 1)))\n",
    "print(\"Num Fake: \" + str(np.sum(np.array(pseudo_labels) == 0)))"
   ]
  },
  {
   "cell_type": "code",
   "execution_count": 11,
   "id": "af2f3648-6b8f-44de-8ed5-051ba3b7d416",
   "metadata": {},
   "outputs": [
    {
     "data": {
      "text/plain": [
       "0.6851939499378205"
      ]
     },
     "execution_count": 11,
     "metadata": {},
     "output_type": "execute_result"
    }
   ],
   "source": [
    "threshold_entropy"
   ]
  },
  {
   "cell_type": "code",
   "execution_count": 12,
   "id": "21d9332c-01e8-40a2-89f4-e332e87487c7",
   "metadata": {},
   "outputs": [
    {
     "data": {
      "text/plain": [
       "0.5497149229049683"
      ]
     },
     "execution_count": 12,
     "metadata": {},
     "output_type": "execute_result"
    }
   ],
   "source": [
    "threshold_likelihood"
   ]
  },
  {
   "cell_type": "code",
   "execution_count": 13,
   "id": "dc386364-6d55-4c74-b5f8-df0fbebd2610",
   "metadata": {},
   "outputs": [],
   "source": [
    "from ClassifierDataPreparation import ClassifierDataPreparation\n",
    "\n",
    "classifier_data_prep = ClassifierDataPreparation(positive_texts, unlabelled_texts, spies_texts, pseudo_labels)"
   ]
  },
  {
   "cell_type": "code",
   "execution_count": 14,
   "id": "6deeb8cf-bcde-4b2d-9b5b-e22ff2c1345d",
   "metadata": {},
   "outputs": [],
   "source": [
    "classification_loader = classifier_data_prep.classification_loader"
   ]
  },
  {
   "cell_type": "code",
   "execution_count": 26,
   "id": "e20fd20b-e07b-4451-9697-0c193fa7e1cd",
   "metadata": {},
   "outputs": [],
   "source": [
    "from ClassifierFinal import ClassifierModel, ClassifierTrainer\n",
    "from FocalLoss import FocalLoss\n",
    "from transformers import AdamW\n",
    "import torch.nn as nn"
   ]
  },
  {
   "cell_type": "code",
   "execution_count": 27,
   "id": "db8766da-835d-404a-9360-e7543f3ace8d",
   "metadata": {},
   "outputs": [
    {
     "name": "stderr",
     "output_type": "stream",
     "text": [
      "Some weights of BertForSequenceClassification were not initialized from the model checkpoint at bert-base-uncased and are newly initialized: ['classifier.bias', 'classifier.weight']\n",
      "You should probably TRAIN this model on a down-stream task to be able to use it for predictions and inference.\n",
      "/opt/conda/lib/python3.10/site-packages/transformers/optimization.py:411: FutureWarning: This implementation of AdamW is deprecated and will be removed in a future version. Use the PyTorch implementation torch.optim.AdamW instead, or set `no_deprecation_warning=True` to disable this warning\n",
      "  warnings.warn(\n"
     ]
    }
   ],
   "source": [
    "device = 'cuda' if torch.cuda.is_available() else 'cpu'\n",
    "\n",
    "classifier_model = ClassifierModel(num_labels=2)\n",
    "focal_loss = FocalLoss(alpha = 0.8, gamma = 2)\n",
    "optimizer = AdamW(classifier_model.parameters(), lr= 2e-5)"
   ]
  },
  {
   "cell_type": "code",
   "execution_count": 28,
   "id": "bbaf6a73-e728-46a0-af18-8b57a86b9530",
   "metadata": {},
   "outputs": [
    {
     "data": {
      "text/plain": [
       "ClassifierModel(\n",
       "  (bert_model): BertForSequenceClassification(\n",
       "    (bert): BertModel(\n",
       "      (embeddings): BertEmbeddings(\n",
       "        (word_embeddings): Embedding(30522, 768, padding_idx=0)\n",
       "        (position_embeddings): Embedding(512, 768)\n",
       "        (token_type_embeddings): Embedding(2, 768)\n",
       "        (LayerNorm): LayerNorm((768,), eps=1e-12, elementwise_affine=True)\n",
       "        (dropout): Dropout(p=0.1, inplace=False)\n",
       "      )\n",
       "      (encoder): BertEncoder(\n",
       "        (layer): ModuleList(\n",
       "          (0-11): 12 x BertLayer(\n",
       "            (attention): BertAttention(\n",
       "              (self): BertSelfAttention(\n",
       "                (query): Linear(in_features=768, out_features=768, bias=True)\n",
       "                (key): Linear(in_features=768, out_features=768, bias=True)\n",
       "                (value): Linear(in_features=768, out_features=768, bias=True)\n",
       "                (dropout): Dropout(p=0.1, inplace=False)\n",
       "              )\n",
       "              (output): BertSelfOutput(\n",
       "                (dense): Linear(in_features=768, out_features=768, bias=True)\n",
       "                (LayerNorm): LayerNorm((768,), eps=1e-12, elementwise_affine=True)\n",
       "                (dropout): Dropout(p=0.1, inplace=False)\n",
       "              )\n",
       "            )\n",
       "            (intermediate): BertIntermediate(\n",
       "              (dense): Linear(in_features=768, out_features=3072, bias=True)\n",
       "              (intermediate_act_fn): GELUActivation()\n",
       "            )\n",
       "            (output): BertOutput(\n",
       "              (dense): Linear(in_features=3072, out_features=768, bias=True)\n",
       "              (LayerNorm): LayerNorm((768,), eps=1e-12, elementwise_affine=True)\n",
       "              (dropout): Dropout(p=0.1, inplace=False)\n",
       "            )\n",
       "          )\n",
       "        )\n",
       "      )\n",
       "      (pooler): BertPooler(\n",
       "        (dense): Linear(in_features=768, out_features=768, bias=True)\n",
       "        (activation): Tanh()\n",
       "      )\n",
       "    )\n",
       "    (dropout): Dropout(p=0.1, inplace=False)\n",
       "    (classifier): Linear(in_features=768, out_features=2, bias=True)\n",
       "  )\n",
       ")"
      ]
     },
     "execution_count": 28,
     "metadata": {},
     "output_type": "execute_result"
    }
   ],
   "source": [
    "classifier_model"
   ]
  },
  {
   "cell_type": "code",
   "execution_count": 29,
   "id": "d60040a7-6efe-4039-9cf6-c4484824deb1",
   "metadata": {},
   "outputs": [],
   "source": [
    "trainer = ClassifierTrainer(classifier_model, focal_loss, optimizer, \n",
    "                            classification_loader,device=device)"
   ]
  },
  {
   "cell_type": "code",
   "execution_count": 30,
   "id": "950f59b1-59a9-40a6-afd3-6c22a001eb15",
   "metadata": {},
   "outputs": [
    {
     "name": "stderr",
     "output_type": "stream",
     "text": [
      "/home/jupyter/FocalLoss.py:24: UserWarning: Implicit dimension choice for log_softmax has been deprecated. Change the call to include dim=X as an argument.\n",
      "  logpt = F.log_softmax(input)\n"
     ]
    },
    {
     "name": "stdout",
     "output_type": "stream",
     "text": [
      "Epoch 1/2, Training Loss: 0.0199\n",
      "Epoch 2/2, Training Loss: 0.0174\n"
     ]
    }
   ],
   "source": [
    "trained_classifier_model = trainer.train(num_epochs = 2)"
   ]
  },
  {
   "cell_type": "markdown",
   "id": "830b4f65-3e49-4f08-9892-b18225776497",
   "metadata": {},
   "source": [
    "<h2> Training Data Metrics"
   ]
  },
  {
   "cell_type": "code",
   "execution_count": 32,
   "id": "c9dfe216-acde-430b-b866-0cb0c08528e2",
   "metadata": {
    "tags": []
   },
   "outputs": [
    {
     "name": "stdout",
     "output_type": "stream",
     "text": [
      "Test F1 Score: 0.9812, Test Recall: 0.9747, Test Precision: 0.9879\n"
     ]
    }
   ],
   "source": [
    "from sklearn.metrics import f1_score,recall_score,precision_score\n",
    "\n",
    "model.eval()\n",
    "test_predictions = []\n",
    "true_labels = []\n",
    "threshold = 0.35\n",
    "\n",
    "with torch.no_grad():\n",
    "    for test_batch in  classification_loader:\n",
    "        \n",
    "        test_input_ids, test_attention_mask, test_labels = test_batch\n",
    "        test_input_ids, test_attention_mask, test_labels = test_input_ids.to(device), test_attention_mask.to(device), test_labels.to(device)\n",
    "        test_outputs = trained_classifier_model(test_input_ids, attention_mask=test_attention_mask)\n",
    "        predicted_class = (test_outputs[:,1] > threshold).float()\n",
    "        test_predictions.extend(predicted_class.cpu().numpy())\n",
    "        true_labels.extend(test_labels.cpu().numpy())\n",
    "\n",
    "test_f1 = f1_score(true_labels, test_predictions)\n",
    "test_recall = recall_score(true_labels, test_predictions)\n",
    "test_precision = precision_score(true_labels, test_predictions)\n",
    "print(f'Test F1 Score: {test_f1:.4f}, Test Recall: {test_recall:.4f}, Test Precision: {test_precision:.4f}')"
   ]
  },
  {
   "cell_type": "code",
   "execution_count": 33,
   "id": "b62d04e4-a258-4d59-896c-6faa9cbd0091",
   "metadata": {},
   "outputs": [
    {
     "data": {
      "text/plain": [
       "0.75358817555157"
      ]
     },
     "execution_count": 33,
     "metadata": {},
     "output_type": "execute_result"
    }
   ],
   "source": [
    "from sklearn.metrics import confusion_matrix, roc_curve, auc, accuracy_score\n",
    "import matplotlib.pyplot as plt\n",
    "from sklearn.metrics import roc_curve, roc_auc_score\n",
    "\n",
    "# Compute ROC curve\n",
    "fpr, tpr, thresholds = roc_curve(true_labels, test_predictions)\n",
    "\n",
    "# Compute AUC\n",
    "auc_score = roc_auc_score(true_labels, test_predictions)\n",
    "roc_auc = auc(fpr, tpr)\n",
    "auc_score"
   ]
  },
  {
   "cell_type": "code",
   "execution_count": 34,
   "id": "51a1090b-9307-408f-8b21-91e3b469f712",
   "metadata": {},
   "outputs": [
    {
     "data": {
      "text/plain": [
       "0.963659961064244"
      ]
     },
     "execution_count": 34,
     "metadata": {},
     "output_type": "execute_result"
    }
   ],
   "source": [
    "accuracy_score(true_labels, test_predictions)"
   ]
  },
  {
   "cell_type": "code",
   "execution_count": 35,
   "id": "8df07c25-ccae-42b0-b957-d3ecc80dc6d6",
   "metadata": {},
   "outputs": [
    {
     "name": "stdout",
     "output_type": "stream",
     "text": [
      "Confusion Matrix:\n",
      "[[  41   36]\n",
      " [  76 2929]]\n"
     ]
    }
   ],
   "source": [
    "conf_matrix = confusion_matrix(true_labels,test_predictions )\n",
    "print(\"Confusion Matrix:\")\n",
    "print(conf_matrix)"
   ]
  },
  {
   "cell_type": "code",
   "execution_count": 36,
   "id": "08bf881e-2038-446d-9e91-9d6d1982f1d0",
   "metadata": {},
   "outputs": [
    {
     "data": {
      "image/png": "[encoded data removed]",
      "text/plain": [
       "<Figure size 800x800 with 1 Axes>"
      ]
     },
     "metadata": {},
     "output_type": "display_data"
    }
   ],
   "source": [
    "plt.figure(figsize=(8, 8))\n",
    "plt.plot(fpr, tpr, color='darkorange', lw=2, label='ROC curve (area = {:.2f})'.format(roc_auc))\n",
    "plt.plot([0, 1], [0, 1], color='navy', lw=2, linestyle='--')\n",
    "plt.xlabel('False Positive Rate')\n",
    "plt.ylabel('True Positive Rate')\n",
    "plt.title('Receiver Operating Characteristic (ROC) Curve')\n",
    "plt.legend(loc=\"lower right\")\n",
    "plt.show()"
   ]
  }
 ],
 "metadata": {
  "kernelspec": {
   "display_name": "PyTorch 2.0 (Local)",
   "language": "python",
   "name": "local-pytorch-2-0"
  },
  "language_info": {
   "codemirror_mode": {
    "name": "ipython",
    "version": 3
   },
   "file_extension": ".py",
   "mimetype": "text/x-python",
   "name": "python",
   "nbconvert_exporter": "python",
   "pygments_lexer": "ipython3",
   "version": "3.10.12"
  }
 },
 "nbformat": 4,
 "nbformat_minor": 5
}
